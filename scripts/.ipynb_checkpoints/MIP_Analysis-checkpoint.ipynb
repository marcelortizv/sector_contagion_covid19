{
 "cells": [
  {
   "cell_type": "code",
   "execution_count": 1,
   "metadata": {},
   "outputs": [],
   "source": [
    "import numpy as np\n",
    "import pandas as pd"
   ]
  },
  {
   "cell_type": "code",
   "execution_count": 60,
   "metadata": {},
   "outputs": [],
   "source": [
    "df_mip = pd.read_excel(\"MIP.xlsx\", sheet_name=\"Matrix_MIP\", index_col=0)\n",
    "df_mct = pd.read_excel(\"MIP.xlsx\", sheet_name=\"Matrix_MCT\", index_col=0)\n",
    "df_total = pd.read_excel(\"MIP.xlsx\", sheet_name=\"Total\")\n",
    "sector_names = df_mip.columns\n",
    "sector_clave = [\"Cría de ganado, otros animales; productos animales; y actividades de apoyo\", \n",
    "                \"Acuicultura y pesca de camarón\", \n",
    "                \"Extracción de petróleo crudo y gas natural\",\n",
    "                \"Producción de madera y de productos de madera\",\n",
    "                \"Fabricación de metales comunes\",\n",
    "                \"Fabricación de maquinaria y equipo\",\n",
    "                \"Generación, captación y distribución de energía eléctrica\",\n",
    "                \"Financiación de planes de seguro, excepto seguridad social\"]\n",
    "df_sales = pd.read_excel(\"tasa_crecimiento.xlsx\")"
   ]
  },
  {
   "cell_type": "code",
   "execution_count": 71,
   "metadata": {},
   "outputs": [
    {
     "data": {
      "text/html": [
       "<div>\n",
       "<style scoped>\n",
       "    .dataframe tbody tr th:only-of-type {\n",
       "        vertical-align: middle;\n",
       "    }\n",
       "\n",
       "    .dataframe tbody tr th {\n",
       "        vertical-align: top;\n",
       "    }\n",
       "\n",
       "    .dataframe thead th {\n",
       "        text-align: right;\n",
       "    }\n",
       "</style>\n",
       "<table border=\"1\" class=\"dataframe\">\n",
       "  <thead>\n",
       "    <tr style=\"text-align: right;\">\n",
       "      <th></th>\n",
       "      <th>nombresector</th>\n",
       "      <th>ones</th>\n",
       "    </tr>\n",
       "  </thead>\n",
       "  <tbody>\n",
       "    <tr>\n",
       "      <th>0</th>\n",
       "      <td>Cultivo de banano, café y cacao</td>\n",
       "      <td>1</td>\n",
       "    </tr>\n",
       "    <tr>\n",
       "      <th>1</th>\n",
       "      <td>Cultivo de cereales</td>\n",
       "      <td>1</td>\n",
       "    </tr>\n",
       "    <tr>\n",
       "      <th>2</th>\n",
       "      <td>Cultivo de flores</td>\n",
       "      <td>1</td>\n",
       "    </tr>\n",
       "    <tr>\n",
       "      <th>3</th>\n",
       "      <td>Cultivo de tubérculos, vegetales, melones y fr...</td>\n",
       "      <td>1</td>\n",
       "    </tr>\n",
       "    <tr>\n",
       "      <th>4</th>\n",
       "      <td>Cultivo oleaginosas e industriales</td>\n",
       "      <td>1</td>\n",
       "    </tr>\n",
       "    <tr>\n",
       "      <th>...</th>\n",
       "      <td>...</td>\n",
       "      <td>...</td>\n",
       "    </tr>\n",
       "    <tr>\n",
       "      <th>66</th>\n",
       "      <td>Servicios de enseñanza público (no de mercado)</td>\n",
       "      <td>1</td>\n",
       "    </tr>\n",
       "    <tr>\n",
       "      <th>67</th>\n",
       "      <td>Servicios sociales y de salud privado</td>\n",
       "      <td>1</td>\n",
       "    </tr>\n",
       "    <tr>\n",
       "      <th>68</th>\n",
       "      <td>Servicios sociales y de salud no de mercado</td>\n",
       "      <td>1</td>\n",
       "    </tr>\n",
       "    <tr>\n",
       "      <th>69</th>\n",
       "      <td>Servicios de asociaciones; esparcimiento; cult...</td>\n",
       "      <td>1</td>\n",
       "    </tr>\n",
       "    <tr>\n",
       "      <th>70</th>\n",
       "      <td>Hogares privados con servicio doméstico</td>\n",
       "      <td>1</td>\n",
       "    </tr>\n",
       "  </tbody>\n",
       "</table>\n",
       "<p>71 rows × 2 columns</p>\n",
       "</div>"
      ],
      "text/plain": [
       "                                         nombresector  ones\n",
       "0                     Cultivo de banano, café y cacao     1\n",
       "1                                 Cultivo de cereales     1\n",
       "2                                   Cultivo de flores     1\n",
       "3   Cultivo de tubérculos, vegetales, melones y fr...     1\n",
       "4                  Cultivo oleaginosas e industriales     1\n",
       "..                                                ...   ...\n",
       "66     Servicios de enseñanza público (no de mercado)     1\n",
       "67              Servicios sociales y de salud privado     1\n",
       "68        Servicios sociales y de salud no de mercado     1\n",
       "69  Servicios de asociaciones; esparcimiento; cult...     1\n",
       "70            Hogares privados con servicio doméstico     1\n",
       "\n",
       "[71 rows x 2 columns]"
      ]
     },
     "execution_count": 71,
     "metadata": {},
     "output_type": "execute_result"
    }
   ],
   "source": [
    "df_sector = pd.DataFrame([df_mip.columns]).T\n",
    "df_sector.columns = [\"nombresector\"]\n",
    "df_sector[\"ones\"] = 1\n",
    "df_sector"
   ]
  },
  {
   "cell_type": "markdown",
   "metadata": {},
   "source": [
    "# Shock 1"
   ]
  },
  {
   "cell_type": "code",
   "execution_count": 72,
   "metadata": {},
   "outputs": [
    {
     "data": {
      "text/html": [
       "<div>\n",
       "<style scoped>\n",
       "    .dataframe tbody tr th:only-of-type {\n",
       "        vertical-align: middle;\n",
       "    }\n",
       "\n",
       "    .dataframe tbody tr th {\n",
       "        vertical-align: top;\n",
       "    }\n",
       "\n",
       "    .dataframe thead th {\n",
       "        text-align: right;\n",
       "    }\n",
       "</style>\n",
       "<table border=\"1\" class=\"dataframe\">\n",
       "  <thead>\n",
       "    <tr style=\"text-align: right;\">\n",
       "      <th></th>\n",
       "      <th>nombresector</th>\n",
       "      <th>ones</th>\n",
       "      <th>salesgrowth</th>\n",
       "      <th>p0</th>\n",
       "    </tr>\n",
       "  </thead>\n",
       "  <tbody>\n",
       "    <tr>\n",
       "      <th>0</th>\n",
       "      <td>Cultivo de banano, café y cacao</td>\n",
       "      <td>1</td>\n",
       "      <td>0.0</td>\n",
       "      <td>1.0</td>\n",
       "    </tr>\n",
       "    <tr>\n",
       "      <th>1</th>\n",
       "      <td>Cultivo de cereales</td>\n",
       "      <td>1</td>\n",
       "      <td>0.0</td>\n",
       "      <td>1.0</td>\n",
       "    </tr>\n",
       "    <tr>\n",
       "      <th>2</th>\n",
       "      <td>Cultivo de flores</td>\n",
       "      <td>1</td>\n",
       "      <td>0.0</td>\n",
       "      <td>1.0</td>\n",
       "    </tr>\n",
       "    <tr>\n",
       "      <th>3</th>\n",
       "      <td>Cultivo de tubérculos, vegetales, melones y fr...</td>\n",
       "      <td>1</td>\n",
       "      <td>0.0</td>\n",
       "      <td>1.0</td>\n",
       "    </tr>\n",
       "    <tr>\n",
       "      <th>4</th>\n",
       "      <td>Cultivo oleaginosas e industriales</td>\n",
       "      <td>1</td>\n",
       "      <td>0.0</td>\n",
       "      <td>1.0</td>\n",
       "    </tr>\n",
       "    <tr>\n",
       "      <th>...</th>\n",
       "      <td>...</td>\n",
       "      <td>...</td>\n",
       "      <td>...</td>\n",
       "      <td>...</td>\n",
       "    </tr>\n",
       "    <tr>\n",
       "      <th>66</th>\n",
       "      <td>Servicios de enseñanza público (no de mercado)</td>\n",
       "      <td>1</td>\n",
       "      <td>0.0</td>\n",
       "      <td>1.0</td>\n",
       "    </tr>\n",
       "    <tr>\n",
       "      <th>67</th>\n",
       "      <td>Servicios sociales y de salud privado</td>\n",
       "      <td>1</td>\n",
       "      <td>0.0</td>\n",
       "      <td>1.0</td>\n",
       "    </tr>\n",
       "    <tr>\n",
       "      <th>68</th>\n",
       "      <td>Servicios sociales y de salud no de mercado</td>\n",
       "      <td>1</td>\n",
       "      <td>0.0</td>\n",
       "      <td>1.0</td>\n",
       "    </tr>\n",
       "    <tr>\n",
       "      <th>69</th>\n",
       "      <td>Servicios de asociaciones; esparcimiento; cult...</td>\n",
       "      <td>1</td>\n",
       "      <td>0.0</td>\n",
       "      <td>1.0</td>\n",
       "    </tr>\n",
       "    <tr>\n",
       "      <th>70</th>\n",
       "      <td>Hogares privados con servicio doméstico</td>\n",
       "      <td>1</td>\n",
       "      <td>0.0</td>\n",
       "      <td>1.0</td>\n",
       "    </tr>\n",
       "  </tbody>\n",
       "</table>\n",
       "<p>71 rows × 4 columns</p>\n",
       "</div>"
      ],
      "text/plain": [
       "                                         nombresector  ones  salesgrowth   p0\n",
       "0                     Cultivo de banano, café y cacao     1          0.0  1.0\n",
       "1                                 Cultivo de cereales     1          0.0  1.0\n",
       "2                                   Cultivo de flores     1          0.0  1.0\n",
       "3   Cultivo de tubérculos, vegetales, melones y fr...     1          0.0  1.0\n",
       "4                  Cultivo oleaginosas e industriales     1          0.0  1.0\n",
       "..                                                ...   ...          ...  ...\n",
       "66     Servicios de enseñanza público (no de mercado)     1          0.0  1.0\n",
       "67              Servicios sociales y de salud privado     1          0.0  1.0\n",
       "68        Servicios sociales y de salud no de mercado     1          0.0  1.0\n",
       "69  Servicios de asociaciones; esparcimiento; cult...     1          0.0  1.0\n",
       "70            Hogares privados con servicio doméstico     1          0.0  1.0\n",
       "\n",
       "[71 rows x 4 columns]"
      ]
     },
     "execution_count": 72,
     "metadata": {},
     "output_type": "execute_result"
    }
   ],
   "source": [
    "df = df_sales[[\"nombresector\", \"salesgrowth\"]].iloc[:6]\n",
    "df_sector = pd.merge(df_sector, df, how=\"outer\", on=\"nombresector\").fillna(0)\n",
    "df_sector[\"p0\"] = df_sector[\"ones\"] + df_sector[\"salesgrowth\"]   #.to_csv(\"que_paso.csv\")\n",
    "df_sector"
   ]
  },
  {
   "cell_type": "markdown",
   "metadata": {},
   "source": [
    "Produccion = Consumo_Total + VAB\n",
    "\n",
    "- $x$: Produccion Total\n",
    "- $y$: Demanda Final\n",
    "- $A$: Matriz de coeficientes tecnicos\n",
    "\n",
    "$$\n",
    "x = (I-A)^{-1} y\n",
    "$$"
   ]
  },
  {
   "cell_type": "code",
   "execution_count": 73,
   "metadata": {},
   "outputs": [],
   "source": [
    "def gatos_contagion(p0, y, A):\n",
    "    n = A.shape[0]\n",
    "    I = np.identity(n)\n",
    "    Ai = np.linalg.inv(I-A)\n",
    "    x1 = Ai @ (y * p0)\n",
    "    return x1"
   ]
  },
  {
   "cell_type": "code",
   "execution_count": 74,
   "metadata": {},
   "outputs": [],
   "source": [
    "df_total[\"Nueva_Prod\"] = gatos_contagion(p0 = np.array(df_sector[\"p0\"]), \n",
    "                                         y = np.array(df_total[\"Demanda Final\"]), \n",
    "                                         A = np.array(df_mct))"
   ]
  },
  {
   "cell_type": "code",
   "execution_count": 50,
   "metadata": {},
   "outputs": [
    {
     "data": {
      "text/plain": [
       "<matplotlib.axes._subplots.AxesSubplot at 0x2036544b208>"
      ]
     },
     "execution_count": 50,
     "metadata": {},
     "output_type": "execute_result"
    },
    {
     "data": {
      "image/png": "[encoded data removed]",
      "text/plain": [
       "<Figure size 432x288 with 1 Axes>"
      ]
     },
     "metadata": {
      "needs_background": "light"
     },
     "output_type": "display_data"
    }
   ],
   "source": [
    "df_total[\"Variacion\"] = (df_total[\"Nueva_Prod\"] / df_total[\"Producción Total\"]) - 1\n",
    "df_total[\"Variacion\"].sort_values()[:10].plot(kind=\"bar\")"
   ]
  },
  {
   "cell_type": "code",
   "execution_count": 80,
   "metadata": {},
   "outputs": [
    {
     "data": {
      "text/plain": [
       "Consumo Doméstico (pb)                 213445.000000\n",
       "Importaciones (pb)                      48245.000000\n",
       "Total Consumo (pb)                     261690.000000\n",
       "Impuestos netos sobre productos          6819.000000\n",
       "Total Consumo (pc)                     268509.000000\n",
       "Valor Agregado Bruto                   174429.000000\n",
       "Remuneraciones                          77269.000000\n",
       "Impuestos netos sobre la producción      3763.000000\n",
       "EBE / IMB                               93397.000000\n",
       "Producción Total                       442938.000000\n",
       "Empleo Total                            38347.000000\n",
       "Demanda Final                          323514.000000\n",
       "Nueva_Prod                             334823.940645\n",
       "Cambio_Prod                           -108114.059355\n",
       "Name: 34, dtype: float64"
      ]
     },
     "execution_count": 80,
     "metadata": {},
     "output_type": "execute_result"
    }
   ],
   "source": [
    "df_total[\"Cambio_Prod\"] = df_total[\"Nueva_Prod\"] - df_total[\"Producción Total\"]\n",
    "df_total.iloc[34]"
   ]
  },
  {
   "cell_type": "code",
   "execution_count": 57,
   "metadata": {},
   "outputs": [
    {
     "data": {
      "text/plain": [
       "34   -0.244084\n",
       "48   -0.231375\n",
       "33   -0.183064\n",
       "46   -0.172117\n",
       "44   -0.117634\n",
       "13   -0.082701\n",
       "32   -0.077831\n",
       "35   -0.056295\n",
       "7    -0.016356\n",
       "38   -0.013673\n",
       "Name: Variacion, dtype: float64"
      ]
     },
     "execution_count": 57,
     "metadata": {},
     "output_type": "execute_result"
    }
   ],
   "source": [
    "df_total[\"Variacion\"].sort_values()[:10]"
   ]
  },
  {
   "cell_type": "code",
   "execution_count": 81,
   "metadata": {},
   "outputs": [
    {
     "data": {
      "text/plain": [
       "nombresector    Fabricación de cuero, productos de cuero y cal...\n",
       "ones                                                            1\n",
       "salesgrowth                                             -0.287831\n",
       "p0                                                       0.712169\n",
       "Name: 34, dtype: object"
      ]
     },
     "execution_count": 81,
     "metadata": {},
     "output_type": "execute_result"
    }
   ],
   "source": [
    "df_sector.iloc[34]"
   ]
  },
  {
   "cell_type": "code",
   "execution_count": 38,
   "metadata": {},
   "outputs": [
    {
     "data": {
      "text/html": [
       "<div>\n",
       "<style scoped>\n",
       "    .dataframe tbody tr th:only-of-type {\n",
       "        vertical-align: middle;\n",
       "    }\n",
       "\n",
       "    .dataframe tbody tr th {\n",
       "        vertical-align: top;\n",
       "    }\n",
       "\n",
       "    .dataframe thead th {\n",
       "        text-align: right;\n",
       "    }\n",
       "</style>\n",
       "<table border=\"1\" class=\"dataframe\">\n",
       "  <thead>\n",
       "    <tr style=\"text-align: right;\">\n",
       "      <th></th>\n",
       "      <th>nombresector</th>\n",
       "      <th>salesgrowth</th>\n",
       "    </tr>\n",
       "  </thead>\n",
       "  <tbody>\n",
       "    <tr>\n",
       "      <th>0</th>\n",
       "      <td>Fabricación de cuero, productos de cuero y cal...</td>\n",
       "      <td>-0.287831</td>\n",
       "    </tr>\n",
       "    <tr>\n",
       "      <th>1</th>\n",
       "      <td>Fabricación de muebles</td>\n",
       "      <td>-0.245327</td>\n",
       "    </tr>\n",
       "    <tr>\n",
       "      <th>2</th>\n",
       "      <td>Fabricación de maquinaria y equipo</td>\n",
       "      <td>-0.235891</td>\n",
       "    </tr>\n",
       "    <tr>\n",
       "      <th>3</th>\n",
       "      <td>Fabricación de metales comunes</td>\n",
       "      <td>-0.221665</td>\n",
       "    </tr>\n",
       "    <tr>\n",
       "      <th>4</th>\n",
       "      <td>Fabricación de cemento, artículos de hormigón ...</td>\n",
       "      <td>-0.218211</td>\n",
       "    </tr>\n",
       "    <tr>\n",
       "      <th>5</th>\n",
       "      <td>Fabricación de prendas de vestir</td>\n",
       "      <td>-0.216469</td>\n",
       "    </tr>\n",
       "  </tbody>\n",
       "</table>\n",
       "</div>"
      ],
      "text/plain": [
       "                                        nombresector  salesgrowth\n",
       "0  Fabricación de cuero, productos de cuero y cal...    -0.287831\n",
       "1                             Fabricación de muebles    -0.245327\n",
       "2                 Fabricación de maquinaria y equipo    -0.235891\n",
       "3                     Fabricación de metales comunes    -0.221665\n",
       "4  Fabricación de cemento, artículos de hormigón ...    -0.218211\n",
       "5                   Fabricación de prendas de vestir    -0.216469"
      ]
     },
     "execution_count": 38,
     "metadata": {},
     "output_type": "execute_result"
    }
   ],
   "source": [
    "df_sales[[\"nombresector\", \"salesgrowth\"]].iloc[:6]"
   ]
  },
  {
   "cell_type": "code",
   "execution_count": 98,
   "metadata": {},
   "outputs": [
    {
     "data": {
      "text/html": [
       "<div>\n",
       "<style scoped>\n",
       "    .dataframe tbody tr th:only-of-type {\n",
       "        vertical-align: middle;\n",
       "    }\n",
       "\n",
       "    .dataframe tbody tr th {\n",
       "        vertical-align: top;\n",
       "    }\n",
       "\n",
       "    .dataframe thead th {\n",
       "        text-align: right;\n",
       "    }\n",
       "</style>\n",
       "<table border=\"1\" class=\"dataframe\">\n",
       "  <thead>\n",
       "    <tr style=\"text-align: right;\">\n",
       "      <th></th>\n",
       "      <th>0</th>\n",
       "      <th>1</th>\n",
       "    </tr>\n",
       "  </thead>\n",
       "  <tbody>\n",
       "    <tr>\n",
       "      <th>56</th>\n",
       "      <td>56</td>\n",
       "      <td>1.800000</td>\n",
       "    </tr>\n",
       "    <tr>\n",
       "      <th>25</th>\n",
       "      <td>25</td>\n",
       "      <td>1.685714</td>\n",
       "    </tr>\n",
       "    <tr>\n",
       "      <th>69</th>\n",
       "      <td>69</td>\n",
       "      <td>1.671429</td>\n",
       "    </tr>\n",
       "    <tr>\n",
       "      <th>52</th>\n",
       "      <td>52</td>\n",
       "      <td>1.671429</td>\n",
       "    </tr>\n",
       "    <tr>\n",
       "      <th>46</th>\n",
       "      <td>46</td>\n",
       "      <td>1.628571</td>\n",
       "    </tr>\n",
       "    <tr>\n",
       "      <th>...</th>\n",
       "      <td>...</td>\n",
       "      <td>...</td>\n",
       "    </tr>\n",
       "    <tr>\n",
       "      <th>14</th>\n",
       "      <td>14</td>\n",
       "      <td>0.514286</td>\n",
       "    </tr>\n",
       "    <tr>\n",
       "      <th>7</th>\n",
       "      <td>7</td>\n",
       "      <td>0.442857</td>\n",
       "    </tr>\n",
       "    <tr>\n",
       "      <th>66</th>\n",
       "      <td>66</td>\n",
       "      <td>0.385714</td>\n",
       "    </tr>\n",
       "    <tr>\n",
       "      <th>31</th>\n",
       "      <td>31</td>\n",
       "      <td>0.385714</td>\n",
       "    </tr>\n",
       "    <tr>\n",
       "      <th>70</th>\n",
       "      <td>70</td>\n",
       "      <td>0.000000</td>\n",
       "    </tr>\n",
       "  </tbody>\n",
       "</table>\n",
       "<p>71 rows × 2 columns</p>\n",
       "</div>"
      ],
      "text/plain": [
       "     0         1\n",
       "56  56  1.800000\n",
       "25  25  1.685714\n",
       "69  69  1.671429\n",
       "52  52  1.671429\n",
       "46  46  1.628571\n",
       "..  ..       ...\n",
       "14  14  0.514286\n",
       "7    7  0.442857\n",
       "66  66  0.385714\n",
       "31  31  0.385714\n",
       "70  70  0.000000\n",
       "\n",
       "[71 rows x 2 columns]"
      ]
     },
     "execution_count": 98,
     "metadata": {},
     "output_type": "execute_result"
    }
   ],
   "source": [
    "import networkx as nx\n",
    "W = np.array(df_mct)\n",
    "G = nx.from_numpy_matrix(W, create_using=nx.DiGraph())\n",
    "pd.DataFrame([(k,v) for k,v in nx.degree_centrality(G).items()]).sort_values(by=1, ascending=False)"
   ]
  },
  {
   "cell_type": "code",
   "execution_count": 105,
   "metadata": {},
   "outputs": [
    {
     "data": {
      "text/html": [
       "<div>\n",
       "<style scoped>\n",
       "    .dataframe tbody tr th:only-of-type {\n",
       "        vertical-align: middle;\n",
       "    }\n",
       "\n",
       "    .dataframe tbody tr th {\n",
       "        vertical-align: top;\n",
       "    }\n",
       "\n",
       "    .dataframe thead th {\n",
       "        text-align: right;\n",
       "    }\n",
       "</style>\n",
       "<table border=\"1\" class=\"dataframe\">\n",
       "  <thead>\n",
       "    <tr style=\"text-align: right;\">\n",
       "      <th></th>\n",
       "      <th>0</th>\n",
       "      <th>1</th>\n",
       "    </tr>\n",
       "  </thead>\n",
       "  <tbody>\n",
       "    <tr>\n",
       "      <th>23</th>\n",
       "      <td>23</td>\n",
       "      <td>1.654783e-01</td>\n",
       "    </tr>\n",
       "    <tr>\n",
       "      <th>26</th>\n",
       "      <td>26</td>\n",
       "      <td>1.631842e-01</td>\n",
       "    </tr>\n",
       "    <tr>\n",
       "      <th>56</th>\n",
       "      <td>56</td>\n",
       "      <td>1.600197e-01</td>\n",
       "    </tr>\n",
       "    <tr>\n",
       "      <th>15</th>\n",
       "      <td>15</td>\n",
       "      <td>1.597695e-01</td>\n",
       "    </tr>\n",
       "    <tr>\n",
       "      <th>35</th>\n",
       "      <td>35</td>\n",
       "      <td>1.595183e-01</td>\n",
       "    </tr>\n",
       "    <tr>\n",
       "      <th>...</th>\n",
       "      <td>...</td>\n",
       "      <td>...</td>\n",
       "    </tr>\n",
       "    <tr>\n",
       "      <th>5</th>\n",
       "      <td>5</td>\n",
       "      <td>5.993363e-02</td>\n",
       "    </tr>\n",
       "    <tr>\n",
       "      <th>58</th>\n",
       "      <td>58</td>\n",
       "      <td>5.807148e-02</td>\n",
       "    </tr>\n",
       "    <tr>\n",
       "      <th>3</th>\n",
       "      <td>3</td>\n",
       "      <td>5.467538e-02</td>\n",
       "    </tr>\n",
       "    <tr>\n",
       "      <th>7</th>\n",
       "      <td>7</td>\n",
       "      <td>4.963068e-02</td>\n",
       "    </tr>\n",
       "    <tr>\n",
       "      <th>70</th>\n",
       "      <td>70</td>\n",
       "      <td>2.290629e-11</td>\n",
       "    </tr>\n",
       "  </tbody>\n",
       "</table>\n",
       "<p>71 rows × 2 columns</p>\n",
       "</div>"
      ],
      "text/plain": [
       "     0             1\n",
       "23  23  1.654783e-01\n",
       "26  26  1.631842e-01\n",
       "56  56  1.600197e-01\n",
       "15  15  1.597695e-01\n",
       "35  35  1.595183e-01\n",
       "..  ..           ...\n",
       "5    5  5.993363e-02\n",
       "58  58  5.807148e-02\n",
       "3    3  5.467538e-02\n",
       "7    7  4.963068e-02\n",
       "70  70  2.290629e-11\n",
       "\n",
       "[71 rows x 2 columns]"
      ]
     },
     "execution_count": 105,
     "metadata": {},
     "output_type": "execute_result"
    }
   ],
   "source": [
    "pd.DataFrame([(k,v) for k,v in nx.eigenvector_centrality(G).items()]).sort_values(by=1, ascending=False)"
   ]
  },
  {
   "cell_type": "code",
   "execution_count": 107,
   "metadata": {},
   "outputs": [
    {
     "data": {
      "text/plain": [
       "nombresector    Elaboración de alimentos preparados para animales\n",
       "ones                                                            1\n",
       "salesgrowth                                                     0\n",
       "p0                                                              1\n",
       "Name: 26, dtype: object"
      ]
     },
     "execution_count": 107,
     "metadata": {},
     "output_type": "execute_result"
    }
   ],
   "source": [
    "df_sector.iloc[26]"
   ]
  },
  {
   "cell_type": "code",
   "execution_count": null,
   "metadata": {},
   "outputs": [],
   "source": [
    "shock_1 = \"degree_centrality\"\n",
    "shock_2 = \"eigenvector_centrality\"\n",
    "shock_3 = \"sector_clave\"\n",
    "shock_4 = \"sector_motor\"\n",
    "\n",
    "drop_1 = \"marzo_sri\"\n",
    "drop_2 = \"abril_sri\""
   ]
  },
  {
   "cell_type": "code",
   "execution_count": null,
   "metadata": {},
   "outputs": [],
   "source": []
  },
  {
   "cell_type": "code",
   "execution_count": null,
   "metadata": {},
   "outputs": [],
   "source": []
  },
  {
   "cell_type": "code",
   "execution_count": 11,
   "metadata": {},
   "outputs": [
    {
     "data": {
      "text/plain": [
       "<matplotlib.axes._subplots.AxesSubplot at 0x20363c64748>"
      ]
     },
     "execution_count": 11,
     "metadata": {},
     "output_type": "execute_result"
    },
    {
     "data": {
      "image/png": "[encoded data removed]",
      "text/plain": [
       "<Figure size 1296x432 with 1 Axes>"
      ]
     },
     "metadata": {
      "needs_background": "light"
     },
     "output_type": "display_data"
    }
   ],
   "source": [
    "list_of_tuples = list(zip(df_total[\"Producción Total\"], df_total[\"Nueva_Prod\"]))\n",
    "new_df = pd.DataFrame(list_of_tuples, index = df_total[\"Producción Total\"].index, columns = ['old', 'new'])\n",
    "new_df.plot(kind='bar'\n",
    "                                  , figsize=(18,6)\n",
    "                                  , width=1\n",
    "                                  , color=['#4b8bbe','lime','red']\n",
    "                                  , rot=2)"
   ]
  },
  {
   "cell_type": "code",
   "execution_count": 24,
   "metadata": {},
   "outputs": [
    {
     "data": {
      "text/plain": [
       "<matplotlib.axes._subplots.AxesSubplot at 0x202db1f6d08>"
      ]
     },
     "execution_count": 24,
     "metadata": {},
     "output_type": "execute_result"
    },
    {
     "data": {
      "image/png": "[encoded data removed]",
      "text/plain": [
       "<Figure size 432x288 with 1 Axes>"
      ]
     },
     "metadata": {
      "needs_background": "light"
     },
     "output_type": "display_data"
    }
   ],
   "source": [
    "df_total[[\"Producción Total\", \"Nueva_Prod\"]].plot(kind=\"hist\", bins=25, logy=True)\n"
   ]
  },
  {
   "cell_type": "code",
   "execution_count": 12,
   "metadata": {},
   "outputs": [
    {
     "data": {
      "text/plain": [
       "Index(['Consumo Doméstico (pb)', 'Importaciones (pb)', 'Total Consumo (pb)',\n",
       "       'Impuestos netos sobre productos', 'Total Consumo (pc)',\n",
       "       'Valor Agregado Bruto', 'Remuneraciones',\n",
       "       'Impuestos netos sobre la producción', 'EBE / IMB', 'Producción Total',\n",
       "       'Empleo Total', 'Demanda Final'],\n",
       "      dtype='object')"
      ]
     },
     "execution_count": 12,
     "metadata": {},
     "output_type": "execute_result"
    }
   ],
   "source": [
    "df_total.columns"
   ]
  },
  {
   "cell_type": "code",
   "execution_count": 9,
   "metadata": {},
   "outputs": [
    {
     "data": {
      "text/plain": [
       "0     3833513\n",
       "1      821683\n",
       "2     1229466\n",
       "3     1157014\n",
       "4     1840142\n",
       "       ...   \n",
       "66    4937334\n",
       "67    1420075\n",
       "68    4141983\n",
       "69    2734612\n",
       "70     548343\n",
       "Length: 71, dtype: int64"
      ]
     },
     "execution_count": 9,
     "metadata": {},
     "output_type": "execute_result"
    }
   ],
   "source": [
    "df_total['Total Consumo (pc)'] + df_total['Valor Agregado Bruto']"
   ]
  },
  {
   "cell_type": "code",
   "execution_count": null,
   "metadata": {},
   "outputs": [],
   "source": []
  }
 ],
 "metadata": {
  "kernelspec": {
   "display_name": "Python 3",
   "language": "python",
   "name": "python3"
  },
  "language_info": {
   "codemirror_mode": {
    "name": "ipython",
    "version": 3
   },
   "file_extension": ".py",
   "mimetype": "text/x-python",
   "name": "python",
   "nbconvert_exporter": "python",
   "pygments_lexer": "ipython3",
   "version": "3.7.6"
  }
 },
 "nbformat": 4,
 "nbformat_minor": 4
}
